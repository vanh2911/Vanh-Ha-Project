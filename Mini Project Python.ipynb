{
 "cells": [
  {
   "cell_type": "markdown",
   "metadata": {},
   "source": [
    "## 1. Guessing number\n",
    "\n",
    "### 1 trò chơi nhỏ mang tên đoán số. Cụ thể, Máy tính sẽ chọn random 1 số từ 1 đến 10 (không in ra màn hình). Người chơi sẽ đoán xem máy tính ra số nào. Giới hạn lượt chơi =5\n",
    "\n"
   ]
  },
  {
   "cell_type": "code",
   "execution_count": 1,
   "metadata": {},
   "outputs": [
    {
     "name": "stdout",
     "output_type": "stream",
     "text": [
      "Guessing a number between 1 and 10:\n",
      "2\n",
      "Your guessing number is too low\n",
      "9\n",
      "Your guessing number is too high\n",
      "5\n",
      "Your guessing number is too low\n",
      "4\n",
      "Your guessing number is too low\n",
      "3\n",
      "Your guessing number is too low\n",
      "2\n",
      "Your guessing number is too low\n",
      "Gameover!!, the correct number is 7\n"
     ]
    }
   ],
   "source": [
    "import random\n",
    "number = random.randint(1, 10)\n",
    " \n",
    "turn = 0\n",
    "print('Guessing a number between 1 and 10:')\n",
    " \n",
    "while turn < 6:\n",
    "    guess = int(input())\n",
    "    turn += 1\n",
    "    if guess < number:\n",
    "        print('Your guessing number is too low')\n",
    "    if guess > number:\n",
    "        print('Your guessing number is too high')\n",
    "    if guess == number:\n",
    "        break\n",
    "if guess == number:\n",
    "    print('You guessed the number after ' + str(turn) + ' tries!')\n",
    "else:\n",
    "    print('Gameover!!, the correct number is ' + str(number))"
   ]
  },
  {
   "cell_type": "markdown",
   "metadata": {},
   "source": [
    "## 2. Oẳn tù tì (Rock Paper Scissors game)\n",
    "\n",
    "### Trong bài này chúng ta sẽ mô phỏng lại trò chơi dân gian oẳn tù tì.\n",
    "#### Cụ thể, chúng ta sẽ oẳn tù tì với máy. Máy sẽ chọn random búa, kéo, hoặc lá trong mỗi lần oẳn tù tì.\n",
    "#### Chúng ta sẽ chọn ra búa, kéo hoặc lá sau đó in ra kết quả. Trường hợp người chơi nhập sai, yêu cầu người chơi nhập lại theo đúng chính tả theo 3 sự lựa chọn búa, kéo, hoặc lá.\n",
    "#### Lưu ý, sau mỗi lượt chơi, máy sẽ random chọn lại búa kéo hoặc lá.\n",
    "\n"
   ]
  },
  {
   "cell_type": "code",
   "execution_count": null,
   "metadata": {},
   "outputs": [],
   "source": [
    "import random as rd\n",
    " \n",
    "action=[\"rock\", \"scissors\", \"paper\"]\n",
    "player=input(\"Enter your choice: \")\n",
    "computer=rd.choice(action)\n",
    "\n",
    "if player in action:\n",
    "    print('You chose '+player+', Computer chose '+computer) \n",
    "else:\n",
    "    print('You can only choose among \"rock, scissors, paper\", choose again')\n",
    "    \n",
    "if player == computer:\n",
    "    print(' It\\'s a tie!')\n",
    "    \n",
    "elif player ==\"rock\":\n",
    "    if computer==\"scissors\":\n",
    "        print(' wao, you win!!')\n",
    "    else: \n",
    "        print(' oh, you lose T.T')\n",
    " \n",
    "elif player==\"scissors\":\n",
    "    if computer==\"rock\":\n",
    "        print(' oh, you lose')\n",
    "    else: \n",
    "        print(' wow, bravos, you win')\n",
    "elif player ==\"paper\":\n",
    "    if computer ==\"rock\":\n",
    "        print(\" you win, yayy\")\n",
    "    else:\n",
    "        print(\" oops, you lose\")\n"
   ]
  }
 ],
 "metadata": {
  "kernelspec": {
   "display_name": "Python 3 (ipykernel)",
   "language": "python",
   "name": "python3"
  },
  "language_info": {
   "codemirror_mode": {
    "name": "ipython",
    "version": 3
   },
   "file_extension": ".py",
   "mimetype": "text/x-python",
   "name": "python",
   "nbconvert_exporter": "python",
   "pygments_lexer": "ipython3",
   "version": "3.9.13"
  }
 },
 "nbformat": 4,
 "nbformat_minor": 2
}
